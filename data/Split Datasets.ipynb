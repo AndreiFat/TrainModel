{
 "cells": [
  {
   "cell_type": "code",
   "id": "initial_id",
   "metadata": {
    "collapsed": true,
    "ExecuteTime": {
     "end_time": "2025-06-22T10:26:24.521741Z",
     "start_time": "2025-06-22T10:26:06.577692Z"
    }
   },
   "source": [
    "import pandas as pd\n",
    "import spacy\n",
    "from rapidfuzz import fuzz\n",
    "from sklearn.model_selection import train_test_split\n",
    "\n",
    "from data.dictionary import general_symptom_categories\n",
    "from data.help_functions import clean_text, normalize_phrase, compute_scor_medical_diabet, infer_diagnosis_from_scor, \\\n",
    "    compute_scor_medical_cardio\n",
    "\n",
    "# === 1. Inițializare ===\n",
    "nlp = spacy.load(\"ro_core_news_sm\")\n",
    "\n",
    "# === 3. Încărcare și preprocesare text ===\n",
    "df = pd.read_csv(\"processed/processed_data.csv\", delimiter=';')\n",
    "df.columns = df.columns.str.strip().str.replace('*', '', regex=False)\n",
    "\n",
    "# Coloane de interes\n",
    "col1 = \"Ce alte simptome sau boli prezinți?\"\n",
    "col2 = \"In prezent, care este cea mai mare provocare a ta? Ce crezi ca te împiedica sa slăbești si sa ai o stare buna de sănătate? \"\n",
    "\n",
    "# Curățare text\n",
    "df[col1] = df[col1].fillna(\"\").apply(clean_text)\n",
    "df[col2] = df[col2].fillna(\"\").apply(clean_text)\n",
    "\n",
    "# Combinare + lematizare\n",
    "df[\"text_lemmatized\"] = (df[col1] + \" \" + df[col2]).apply(lambda x: normalize_phrase(x, nlp))\n",
    "\n",
    "# === 5. Normalizează toate frazele din categorii ===\n",
    "normalized_categories = {\n",
    "    cat: [normalize_phrase(phrase, nlp) for phrase in phrases]\n",
    "    for cat, phrases in general_symptom_categories.items()\n",
    "}\n",
    "\n",
    "\n",
    "# === 6. Funcție de etichetare fuzzy ===\n",
    "def label_row(text_lemma, threshold=90):  # daca cuvantul indeplineste trashold atunci se aplica eticheta\n",
    "    labels = set()\n",
    "    for category, phrases in normalized_categories.items():\n",
    "        for phrase in phrases:\n",
    "            if fuzz.partial_ratio(phrase, text_lemma) >= threshold:\n",
    "                labels.add(category)\n",
    "                break\n",
    "    return list(labels)\n",
    "\n",
    "\n",
    "# === 7. Aplică etichetarea ===\n",
    "df[\"labels\"] = df[\"text_lemmatized\"].apply(label_row)\n",
    "df[\"scor_medical\"] = df.apply(compute_scor_medical_diabet, axis=1)\n",
    "\n",
    "# === 7.5. Suprascriere etichete pe baza scorului medical ===\n",
    "df = df.apply(infer_diagnosis_from_scor, axis=1)\n",
    "\n",
    "\n",
    "# === 7.7 Detectare afecțiuni și simptome cardiovasculare grave ===\n",
    "\n",
    "def check_presence(text, phrase_list):\n",
    "    tokens = text.split()\n",
    "    for phrase in phrase_list:\n",
    "        phrase_tokens = phrase.split()\n",
    "        for i in range(len(tokens) - len(phrase_tokens) + 1):\n",
    "            if tokens[i:i + len(phrase_tokens)] == phrase_tokens:\n",
    "                return True\n",
    "    return False\n",
    "\n",
    "\n",
    "# 1. Expresii cu risc cardiovascular crescut (simptome, stil de viață etc.)\n",
    "simptome_risc_cardio = [\n",
    "    \"durere piept\", \"presiune toracic\", \"nu pot respira\", \"sufocare\",\n",
    "    \"tensiune mare\", \"hipertensiune\", \"puls mare\", \"batai rapide inima\",\n",
    "    \"inima bate tare\", \"oboseala la efort\", \"edem\", \"picioare umflat\",\n",
    "    \"retentie apa\", \"lesin\", \"vedere intunecat\", \"cap greu\", \"sforai puternic\",\n",
    "    \"apnee somn\", \"colesterol mare\", \"trigliceride mari\", \"fumez zilnic\",\n",
    "    \"stil viata sedentar\", \"nu fac miscare\", \"ma misc putin\"\n",
    "]\n",
    "\n",
    "# Normalizează expresiile\n",
    "simptome_risc_cardio_norm = [normalize_phrase(p, nlp) for p in simptome_risc_cardio]\n",
    "\n",
    "# 2. Categoriile grave cardiovasculare (istoric sau diagnostic sever)\n",
    "afectiuni_cardio_grave = {\n",
    "    \"infarct\": [\n",
    "        \"infarct\", \"infarct miocardic\", \"atac de cord\", \"atac cardiac\", \"atac cord\",\n",
    "        \"necroză miocardică\", \"ischemie miocardică\", \"angina instabilă\", \"angina pectorală\",\n",
    "        \"stop cardiac\", \"infarct transmural\", \"infarct non-transmural\",\n",
    "        \"ischemie coronariană\", \"boala coronariană\", \"sindrom coronarian acut\"\n",
    "    ],\n",
    "    \"avc\": [\n",
    "        \"avc\", \"accident vascular cerebral\", \"accident vascular\", \"hemoragie cerebrală\",\n",
    "        \"trombembolism cerebral\", \"ischemie cerebrală\", \"pareză\", \"hemipareză\",\n",
    "        \"accident ischemic tranzitor\", \"tia\", \"accident vascular ischemic\",\n",
    "        \"accident hemoragic\", \"hemoragie intracerebrală\", \"accident vascular lacunar\",\n",
    "        \"embolism cerebral\", \"ischemie ischemică\"\n",
    "    ],\n",
    "    \"stent_sau_bypass\": [\n",
    "        \"stent\", \"angioplastie\", \"bypass\", \"intervenție pe cord\", \"operație pe inimă\",\n",
    "        \"revascularizare miocardică\", \"chirurgie coronariană\", \"by-pass coronarian\",\n",
    "        \"angioplastie coronariană\", \"implantare stent coronarian\", \"intervenție coronariană percutană\"\n",
    "    ],\n",
    "    \"fibrilatie_sau_ritm\": [\n",
    "        \"fibrilație atrială\", \"aritmie\", \"tulburări de ritm\", \"bătăi neregulate inimă\",\n",
    "        \"palpitații severe\", \"tahicardie\", \"bradicardie\", \"extrasistole\",\n",
    "        \"tulburări de conducere\", \"bloc atrioventricular\", \"fibrilație ventriculară\",\n",
    "        \"flutter atrial\", \"tahiaritmie\", \"sindrom Wolff-Parkinson-White\"\n",
    "    ],\n",
    "    \"embolie_sau_tromboza\": [\n",
    "        \"embolie\", \"embolie pulmonară\", \"tromboză\", \"cheag de sânge\", \"coagulare excesivă\",\n",
    "        \"tromboembolism\", \"tromboflebită\", \"embolie arterială\", \"embolie venoasă profundă\",\n",
    "        \"tromboză venoasă profundă\", \"tromboză arterială\", \"trombus\", \"trombocitopenie\",\n",
    "        \"coagulopatie\", \"sindrom antifosfolipidic\"\n",
    "    ]\n",
    "}\n",
    "\n",
    "# Normalizează expresiile\n",
    "afectiuni_cardio_grave_normalizate = {\n",
    "    col: [normalize_phrase(p, nlp) for p in expresii]\n",
    "    for col, expresii in afectiuni_cardio_grave.items()\n",
    "}\n",
    "\n",
    "# Creează coloane binare pentru fiecare afecțiune gravă cu funcția strictă\n",
    "for col_name, phrase_list in afectiuni_cardio_grave_normalizate.items():\n",
    "    df[col_name] = df[\"text_lemmatized\"].apply(lambda text: int(check_presence(text, phrase_list)))\n",
    "\n",
    "# Coloană finală: risc cardiovascular general\n",
    "# Dacă are ORICE simptom de risc SAU ORICE afecțiune cardiovasculară gravă => risc_cardiovascular = 1\n",
    "df[\"risc_cardiovascular\"] = df[\"text_lemmatized\"].apply(\n",
    "    lambda text: int(check_presence(text, simptome_risc_cardio_norm)))\n",
    "\n",
    "df[\"risc_cardiovascular\"] = df.apply(\n",
    "    lambda row: 1 if (\n",
    "            row.get(\"infarct\", 0) == 1 or\n",
    "            row.get(\"avc\", 0) == 1 or\n",
    "            row.get(\"stent_sau_bypass\", 0) == 1 or\n",
    "            row.get(\"fibrilatie_sau_ritm\", 0) == 1 or\n",
    "            row.get(\"embolie_sau_tromboza\", 0) == 1 or\n",
    "            row.get(\"risc_cardiovascular\", 0) == 1 or\n",
    "            row.get(\"hipertensiune arteriala\", 0) == 1 or\n",
    "            row.get(\"dislipidemie (grăsimi crescute in sânge)\", 0) == 1 or\n",
    "            row.get(\"scor_medical_cardio\", 0) > 25\n",
    "    ) else 0,\n",
    "    axis=1\n",
    ")\n",
    "\n",
    "# Calculează scorul medical cardio după funcția ta\n",
    "df['scor_medical_cardio'] = df.apply(compute_scor_medical_cardio, axis=1)\n",
    "# Asumând că ai deja coloana 'scor_medical_cardio' calculată în df\n",
    "mediana_scor = df['scor_medical_cardio'].median()\n",
    "print(\"Mediana scorului medical cardio este:\", mediana_scor)\n",
    "\n",
    "# === 8. Salvează dataseturile ===\n",
    "train, tmp = train_test_split(df, test_size=0.4, random_state=42)\n",
    "val, test = train_test_split(tmp, test_size=0.5, random_state=42)\n",
    "train.to_csv('datasets/train/train.csv', sep=';', index=False)\n",
    "val.to_csv('datasets/validation/val.csv', sep=';', index=False)\n",
    "test.to_csv('datasets/test/test.csv', sep=';', index=False)\n",
    "\n",
    "print(\"Etichete extrase:\", sorted(set(label for labels in df[\"labels\"] for label in labels)))"
   ],
   "outputs": [
    {
     "name": "stdout",
     "output_type": "stream",
     "text": [
      "Mediana scorului medical cardio este: 16.0\n",
      "Etichete extrase: ['cardio_vascular', 'gastro_hepato_renal', 'ginecologic_hormonal', 'inflamator_autoimun', 'metabolic_endocrin', 'neuro_psiho_energie']\n"
     ]
    }
   ],
   "execution_count": 9
  },
  {
   "metadata": {
    "ExecuteTime": {
     "end_time": "2025-06-22T10:32:51.642435Z",
     "start_time": "2025-06-22T10:32:51.639427Z"
    }
   },
   "cell_type": "code",
   "source": [
    "train.head(3000)\n",
    "y_test = train[\"risc_cardiovascular\"].dtype\n",
    "print(y_test)"
   ],
   "id": "7d58f1f573377376",
   "outputs": [
    {
     "name": "stdout",
     "output_type": "stream",
     "text": [
      "int64\n"
     ]
    }
   ],
   "execution_count": 21
  },
  {
   "metadata": {
    "ExecuteTime": {
     "end_time": "2025-06-22T10:32:46.325089Z",
     "start_time": "2025-06-22T10:32:46.321417Z"
    }
   },
   "cell_type": "code",
   "source": [
    "val.head(1000)\n",
    "y_test = val[\"risc_cardiovascular\"].dtype\n",
    "print(y_test)"
   ],
   "id": "ede9dd57ccf02d97",
   "outputs": [
    {
     "name": "stdout",
     "output_type": "stream",
     "text": [
      "int64\n"
     ]
    }
   ],
   "execution_count": 20
  },
  {
   "metadata": {
    "ExecuteTime": {
     "end_time": "2025-06-22T10:32:37.065262Z",
     "start_time": "2025-06-22T10:32:37.061707Z"
    }
   },
   "cell_type": "code",
   "source": [
    "test.head(1000)\n",
    "y_test = test[\"risc_cardiovascular\"].dtype\n",
    "print(y_test)"
   ],
   "id": "1dbaa0d98fb0b281",
   "outputs": [
    {
     "name": "stdout",
     "output_type": "stream",
     "text": [
      "int64\n"
     ]
    }
   ],
   "execution_count": 19
  }
 ],
 "metadata": {
  "kernelspec": {
   "display_name": "Python 3",
   "language": "python",
   "name": "python3"
  },
  "language_info": {
   "codemirror_mode": {
    "name": "ipython",
    "version": 2
   },
   "file_extension": ".py",
   "mimetype": "text/x-python",
   "name": "python",
   "nbconvert_exporter": "python",
   "pygments_lexer": "ipython2",
   "version": "2.7.6"
  }
 },
 "nbformat": 4,
 "nbformat_minor": 5
}
